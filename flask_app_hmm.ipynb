{
 "cells": [
  {
   "cell_type": "markdown",
   "metadata": {},
   "source": [
    "\"\"\"\n",
    "import numpy as np\n",
    "import pandas as pd\n",
    "from flask import Flask, request, jsonify, render_template\n",
    "import pickle\n",
    "\n",
    "from flask import Response\n",
    "from matplotlib.backends.backend_agg import FigureCanvasAgg as FigureCanvas\n",
    "from matplotlib.figure import Figure\n",
    "import json, random\n",
    "import matplotlib.pyplot as plt\n",
    "import io\n",
    "import base64\n",
    "\n",
    "# Create flask app\n",
    "flask_app = Flask(__name__, template_folder='temp')\n",
    "\n",
    "\n",
    "model = pickle.load(open(\"HMM_1.pkl\", \"rb\"))\n",
    "\n",
    "@flask_app.route('/')\n",
    "def home():\n",
    "    return render_template('index.html')\n",
    "\n",
    "@flask_app.route(\"/predict\", methods = [\"POST\", \"GET\"])\n",
    "def predict():\n",
    "    \"\"\"\n",
    "    cur = mysql.connection.cursor()\n",
    "    cur.execute()\n",
    "    \"\"\"  \n",
    "    df = pd.read_csv(\"/Volumes/Projects/DAZOQ-internship/one_sensor.csv\")\n",
    "    \n",
    "    df_data = df[['timestamp_utc','total_system_power']]\n",
    "    # Features and Labels\n",
    "    df_x = df_data['total_system_power'].values\n",
    "\n",
    "\n",
    "    prediction = model.predict(df_x.reshape(-1, 1))\n",
    "    \n",
    "    df_data['cluster'] = prediction\n",
    "    df_data.to_csv(\"/Volumes/Projects/DAZOQ-internship/Cluster.csv\", index=False)\n",
    "    return render_template('index.html', prediction_text = \"group point{}\".format(prediction))\n",
    "\n",
    "if __name__ == \"__main__\":\n",
    "    flask_app.run(debug=True, use_reloader=False)\n",
    "\"\"\""
   ]
  },
  {
   "cell_type": "code",
   "execution_count": 19,
   "metadata": {},
   "outputs": [],
   "source": [
    "#, use_reloader=False..........\"group point{}\".format(prediction)======render_template('index.html', prediction_text = \"group point{}\".format(prediction))\n",
    "\n",
    "\n",
    "\n"
   ]
  },
  {
   "cell_type": "code",
   "execution_count": 2,
   "metadata": {},
   "outputs": [
    {
     "name": "stdout",
     "output_type": "stream",
     "text": [
      "Collecting flask\n",
      "  Obtaining dependency information for flask from https://files.pythonhosted.org/packages/93/a6/aa98bfe0eb9b8b15d36cdfd03c8ca86a03968a87f27ce224fb4f766acb23/flask-3.0.2-py3-none-any.whl.metadata\n",
      "  Downloading flask-3.0.2-py3-none-any.whl.metadata (3.6 kB)\n",
      "Requirement already satisfied: Werkzeug>=3.0.0 in /Users/anitha/opt/anaconda3/envs/MYENV/lib/python3.11/site-packages (from flask) (3.0.0)\n",
      "Requirement already satisfied: Jinja2>=3.1.2 in /Users/anitha/opt/anaconda3/envs/MYENV/lib/python3.11/site-packages (from flask) (3.1.2)\n",
      "Collecting itsdangerous>=2.1.2 (from flask)\n",
      "  Obtaining dependency information for itsdangerous>=2.1.2 from https://files.pythonhosted.org/packages/68/5f/447e04e828f47465eeab35b5d408b7ebaaaee207f48b7136c5a7267a30ae/itsdangerous-2.1.2-py3-none-any.whl.metadata\n",
      "  Downloading itsdangerous-2.1.2-py3-none-any.whl.metadata (2.9 kB)\n",
      "Requirement already satisfied: click>=8.1.3 in /Users/anitha/opt/anaconda3/envs/MYENV/lib/python3.11/site-packages (from flask) (8.1.7)\n",
      "Requirement already satisfied: blinker>=1.6.2 in /Users/anitha/opt/anaconda3/envs/MYENV/lib/python3.11/site-packages (from flask) (1.6.3)\n",
      "Requirement already satisfied: MarkupSafe>=2.0 in /Users/anitha/opt/anaconda3/envs/MYENV/lib/python3.11/site-packages (from Jinja2>=3.1.2->flask) (2.1.1)\n",
      "Downloading flask-3.0.2-py3-none-any.whl (101 kB)\n",
      "\u001b[2K   \u001b[90m━━━━━━━━━━━━━━━━━━━━━━━━━━━━━━━━━━━━━━━━\u001b[0m \u001b[32m101.3/101.3 kB\u001b[0m \u001b[31m3.1 MB/s\u001b[0m eta \u001b[36m0:00:00\u001b[0m\n",
      "\u001b[?25hDownloading itsdangerous-2.1.2-py3-none-any.whl (15 kB)\n",
      "Installing collected packages: itsdangerous, flask\n",
      "Successfully installed flask-3.0.2 itsdangerous-2.1.2\n"
     ]
    }
   ],
   "source": [
    "!pip3 install flask"
   ]
  },
  {
   "cell_type": "markdown",
   "metadata": {},
   "source": [
    "# Visulaization "
   ]
  },
  {
   "cell_type": "markdown",
   "metadata": {},
   "source": [
    "# visualization with input"
   ]
  },
  {
   "cell_type": "code",
   "execution_count": null,
   "metadata": {},
   "outputs": [
    {
     "name": "stdout",
     "output_type": "stream",
     "text": [
      " * Serving Flask app '__main__'\n",
      " * Debug mode: on\n"
     ]
    },
    {
     "name": "stderr",
     "output_type": "stream",
     "text": [
      "\u001b[31m\u001b[1mWARNING: This is a development server. Do not use it in a production deployment. Use a production WSGI server instead.\u001b[0m\n",
      " * Running on http://127.0.0.1:5000\n",
      "\u001b[33mPress CTRL+C to quit\u001b[0m\n",
      "127.0.0.1 - - [06/Mar/2024 08:57:05] \"GET / HTTP/1.1\" 200 -\n",
      "/var/folders/y9/kzh00ysx0cl0fd_lkcz27c_00000gn/T/ipykernel_54623/4067236820.py:60: SettingWithCopyWarning: \n",
      "A value is trying to be set on a copy of a slice from a DataFrame.\n",
      "Try using .loc[row_indexer,col_indexer] = value instead\n",
      "\n",
      "See the caveats in the documentation: https://pandas.pydata.org/pandas-docs/stable/user_guide/indexing.html#returning-a-view-versus-a-copy\n",
      "  df_data['smooth'] = df_data['total_system_power'].rolling(window=20, win_type='gaussian', center=True).mean(std=2)\n",
      "127.0.0.1 - - [06/Mar/2024 08:57:36] \"POST /predict HTTP/1.1\" 200 -\n"
     ]
    }
   ],
   "source": [
    "import numpy as np\n",
    "import pandas as pd\n",
    "from flask import Flask, request, jsonify, render_template\n",
    "import pickle\n",
    "import datetime as dt\n",
    "\n",
    "from flask import Response\n",
    "from matplotlib.backends.backend_agg import FigureCanvasAgg as FigureCanvas\n",
    "from matplotlib.figure import Figure\n",
    "import json, random\n",
    "import matplotlib.pyplot as plt\n",
    "import io\n",
    "import base64\n",
    "from PIL import Image\n",
    "import urllib.parse\n",
    "\n",
    "\n",
    "prediction = []\n",
    "\n",
    "# Create flask app\n",
    "flask_app = Flask(__name__, template_folder='temp')\n",
    "\n",
    "model = pickle.load(open(\"HMM_2.pkl\", \"rb\"))\n",
    "\n",
    "@flask_app.route('/')\n",
    "def home():\n",
    "    return render_template('index1.html')\n",
    "\n",
    "@flask_app.route(\"/predict\", methods = [\"POST\", \"GET\"])\n",
    "def predict():\n",
    "    \"\"\"\n",
    "    cur = mysql.connection.cursor()\n",
    "    cur.execute()\n",
    "    \"\"\"  \n",
    "\n",
    "    \n",
    "    # Get values through input bars\n",
    "    start_date = request.form[\"date_s\"] \n",
    "    end_date = request.form[\"date_e\"]\n",
    "    c_id = int(request.form[\"Company_id\"])\n",
    "    p_id = int(request.form[\"Process_id\"])\n",
    "    sp_id = int(request.form[\"Subprocess_id\"])\n",
    "    e_id = int(request.form[\"Equipment_id\"])\n",
    "    \n",
    "    \n",
    "    \n",
    "    df = pd.read_csv(\"Data/sensor_one_week1001.csv\")\n",
    "    #convert the timestamp \n",
    "    \n",
    "    df['timestamp_utc'] = pd.to_datetime(df['timestamp_utc'])\n",
    "    df['timestamp_utc']\n",
    "    \n",
    "    \n",
    "    df1 = df.loc[(df['timestamp_utc'].between(start_date, end_date)) & (df['company_id']== c_id) & (df['process_id']== p_id) & (df['sub_process_id']== sp_id) & (df['equipment_id']== e_id)] \n",
    "    #print(df1)\n",
    "    df1 = df1.sort_values(by = 'timestamp_utc')\n",
    "    df1.to_csv(\"Data/df_mask.csv\", index=False)\n",
    "    df_data = df1[['timestamp_utc','total_system_power']]\n",
    "    #df_x = df_data['total_system_power'].values\n",
    "    df_data['smooth'] = df_data['total_system_power'].rolling(window=20, win_type='gaussian', center=True).mean(std=2)\n",
    "    df_data = df_data.dropna().copy()\n",
    "    df_x = df_data['smooth'].values\n",
    "    prediction = model.predict(df_x.reshape(-1, 1))\n",
    "    df_data['cluster'] = prediction\n",
    "    df_data.to_csv(\"Data/Cluster1.csv\", index=False)\n",
    "    \n",
    "    \n",
    "    df_display = pd.read_csv(\"Data/Cluster1.csv\")\n",
    "    df_display['timestamp_utc'] = pd.to_datetime(df_display['timestamp_utc'])\n",
    "    data = {\n",
    "        'a': df_display['timestamp_utc'].dt.strftime('%d,%H:%M'),\n",
    "        'b': df_display['smooth'],\n",
    "        'c': df_display['cluster']\n",
    "    }\n",
    "    \n",
    "    from datetime import datetime\n",
    "#plt.xticks(np.arange(0, len(a) + 1, 5))\n",
    "#plt.plot(figsize=(20, 10))\n",
    "    plt.rcParams.update({'figure.figsize':(20,10), 'figure.dpi':300})\n",
    "    plt.xticks(np.arange(0, len(df_display['timestamp_utc']) + 1, 20), rotation = 60)\n",
    "    #plt.scatter('a','b ',c=, cmap= 'rainbow')\n",
    "    \n",
    "    im = plt.scatter(df_display['timestamp_utc'].dt.strftime('%d,%H:%M'), 'b', c='c', data=data, cmap = 'rainbow')\n",
    "    #plt.xlabel('X label')\n",
    "    plt.ylabel('Y label')\n",
    "   \n",
    "    #plt.savefig(os.path.join('plot.png'))\n",
    "\n",
    "    #return render_template('index.html')\n",
    "\n",
    "    data = io.BytesIO()\n",
    "    plt.savefig(data, format = 'png')\n",
    "    data.seek(0)\n",
    "    encoded_img_data = urllib.parse.quote(base64.b64encode(data.read()).decode())\n",
    "    #mime = \"image/jpeg\"\n",
    "    \n",
    "    #file = \"data:%s;base64,%s\"%(mime, img_base64)\n",
    "\n",
    "    return render_template(\"index1.html\", image=encoded_img_data)\n",
    "\n",
    "\n",
    "\n",
    "if __name__ == \"__main__\":\n",
    "    flask_app.run(debug=True, use_reloader=False)\n",
    "\n"
   ]
  },
  {
   "cell_type": "code",
   "execution_count": null,
   "metadata": {},
   "outputs": [],
   "source": [
    " \"\"\"\n",
    "    if c_id in df.company_id.values:\n",
    "        if p_id in df.process_id.values:\n",
    "            if sp_id in df.subprocess_id.values:\n",
    "                if e_id in df.equipment_id.values:\n",
    "                    \n",
    "                    df_data = df[['timestamp_utc','total_system_power']]\n",
    "                    df_x = df_data['total_system_power'].values\n",
    "                    prediction = model.predict(df_x.reshape(-1, 1))\n",
    "    \n",
    "                    df_data['cluster'] = prediction\n",
    "                    df_data.to_csv(\"/Volumes/Projects/DAZOQ-internship/Cluster1.csv\", index=False)\n",
    "                    \n",
    "    else:\n",
    "        print('Values not found')\n",
    "\"\"\" "
   ]
  },
  {
   "cell_type": "code",
   "execution_count": 1,
   "metadata": {},
   "outputs": [],
   "source": [
    "import numpy as np\n",
    "import pandas as pd\n",
    "from flask import Flask, request, jsonify, render_template\n",
    "import pickle\n",
    "import datetime as dt\n",
    "\n",
    "from flask import Response\n",
    "from matplotlib.backends.backend_agg import FigureCanvasAgg as FigureCanvas\n",
    "from matplotlib.figure import Figure\n",
    "import json, random\n",
    "import matplotlib.pyplot as plt\n",
    "import io\n",
    "import base64\n",
    "from PIL import Image\n",
    "import urllib.parse"
   ]
  },
  {
   "cell_type": "code",
   "execution_count": 2,
   "metadata": {},
   "outputs": [],
   "source": [
    "model = pickle.load(open(\"HMM_3.pkl\", \"rb\"))"
   ]
  },
  {
   "cell_type": "code",
   "execution_count": 3,
   "metadata": {},
   "outputs": [
    {
     "data": {
      "text/plain": [
       "0       2023-03-13 05:04:00+00:00\n",
       "1       2023-03-13 05:04:00+00:00\n",
       "2       2023-03-13 05:04:00+00:00\n",
       "3       2023-03-13 05:04:00+00:00\n",
       "4       2023-03-13 05:04:00+00:00\n",
       "                   ...           \n",
       "42485   2023-03-13 05:02:00+00:00\n",
       "42486   2023-03-13 05:02:00+00:00\n",
       "42487   2023-03-13 05:02:00+00:00\n",
       "42488   2023-03-13 05:02:00+00:00\n",
       "42489   2023-03-13 05:02:00+00:00\n",
       "Name: timestamp_utc, Length: 42490, dtype: datetime64[ns, UTC]"
      ]
     },
     "execution_count": 3,
     "metadata": {},
     "output_type": "execute_result"
    }
   ],
   "source": [
    "df = pd.read_csv(\"/Volumes/Projects/DAZOQ-internship/sensor_one_week1001.csv\")\n",
    "#convert the timestamp \n",
    "\n",
    "df['timestamp_utc'] = pd.to_datetime(df['timestamp_utc'])\n",
    "df['timestamp_utc']\n"
   ]
  },
  {
   "cell_type": "code",
   "execution_count": 10,
   "metadata": {},
   "outputs": [],
   "source": [
    "df1 = df.loc[(df['timestamp_utc'].between('2023-03-13 05:04:00+00:00', '2023-03-13 05:20:00+00:00')) & (df['company_id']== 1001) & (df['process_id']== 3) & (df['sub_process_id']== 1) & (df['equipment_id']== 1)]"
   ]
  },
  {
   "cell_type": "code",
   "execution_count": 11,
   "metadata": {},
   "outputs": [
    {
     "name": "stdout",
     "output_type": "stream",
     "text": [
      "                timestamp_utc  total_system_power\n",
      "20  2023-03-13 05:04:00+00:00           10.889110\n",
      "23  2023-03-13 05:06:00+00:00            9.589526\n",
      "41  2023-03-13 05:08:00+00:00            9.912909\n",
      "54  2023-03-13 05:10:00+00:00            9.920809\n",
      "65  2023-03-13 05:12:00+00:00           11.227239\n",
      "86  2023-03-13 05:14:00+00:00           11.197217\n",
      "103 2023-03-13 05:16:00+00:00            5.127493\n",
      "124 2023-03-13 05:18:00+00:00            5.121963\n",
      "144 2023-03-13 05:20:00+00:00            5.079039\n"
     ]
    },
    {
     "name": "stderr",
     "output_type": "stream",
     "text": [
      "<ipython-input-11-eeedb5e62f0a>:5: SettingWithCopyWarning: \n",
      "A value is trying to be set on a copy of a slice from a DataFrame.\n",
      "Try using .loc[row_indexer,col_indexer] = value instead\n",
      "\n",
      "See the caveats in the documentation: https://pandas.pydata.org/pandas-docs/stable/user_guide/indexing.html#returning-a-view-versus-a-copy\n",
      "  df_data['cluster'] = prediction\n"
     ]
    }
   ],
   "source": [
    "df_data = df1[['timestamp_utc','total_system_power']]\n",
    "df_x = df_data['total_system_power'].values\n",
    "print(df_data)\n",
    "prediction = model.predict(df_x.reshape(-1, 1))\n",
    "df_data['cluster'] = prediction\n",
    "df_data.to_csv(\"/Volumes/Projects/DAZOQ-internship/Cluster_example.csv\", index=False)\n"
   ]
  },
  {
   "cell_type": "code",
   "execution_count": 12,
   "metadata": {},
   "outputs": [
    {
     "data": {
      "text/html": [
       "<div>\n",
       "<style scoped>\n",
       "    .dataframe tbody tr th:only-of-type {\n",
       "        vertical-align: middle;\n",
       "    }\n",
       "\n",
       "    .dataframe tbody tr th {\n",
       "        vertical-align: top;\n",
       "    }\n",
       "\n",
       "    .dataframe thead th {\n",
       "        text-align: right;\n",
       "    }\n",
       "</style>\n",
       "<table border=\"1\" class=\"dataframe\">\n",
       "  <thead>\n",
       "    <tr style=\"text-align: right;\">\n",
       "      <th></th>\n",
       "      <th>timestamp_utc</th>\n",
       "      <th>total_system_power</th>\n",
       "      <th>cluster</th>\n",
       "    </tr>\n",
       "  </thead>\n",
       "  <tbody>\n",
       "    <tr>\n",
       "      <th>20</th>\n",
       "      <td>2023-03-13 05:04:00+00:00</td>\n",
       "      <td>10.889110</td>\n",
       "      <td>2</td>\n",
       "    </tr>\n",
       "    <tr>\n",
       "      <th>23</th>\n",
       "      <td>2023-03-13 05:06:00+00:00</td>\n",
       "      <td>9.589526</td>\n",
       "      <td>3</td>\n",
       "    </tr>\n",
       "    <tr>\n",
       "      <th>41</th>\n",
       "      <td>2023-03-13 05:08:00+00:00</td>\n",
       "      <td>9.912909</td>\n",
       "      <td>3</td>\n",
       "    </tr>\n",
       "    <tr>\n",
       "      <th>54</th>\n",
       "      <td>2023-03-13 05:10:00+00:00</td>\n",
       "      <td>9.920809</td>\n",
       "      <td>3</td>\n",
       "    </tr>\n",
       "    <tr>\n",
       "      <th>65</th>\n",
       "      <td>2023-03-13 05:12:00+00:00</td>\n",
       "      <td>11.227239</td>\n",
       "      <td>3</td>\n",
       "    </tr>\n",
       "    <tr>\n",
       "      <th>86</th>\n",
       "      <td>2023-03-13 05:14:00+00:00</td>\n",
       "      <td>11.197217</td>\n",
       "      <td>3</td>\n",
       "    </tr>\n",
       "    <tr>\n",
       "      <th>103</th>\n",
       "      <td>2023-03-13 05:16:00+00:00</td>\n",
       "      <td>5.127493</td>\n",
       "      <td>3</td>\n",
       "    </tr>\n",
       "    <tr>\n",
       "      <th>124</th>\n",
       "      <td>2023-03-13 05:18:00+00:00</td>\n",
       "      <td>5.121963</td>\n",
       "      <td>3</td>\n",
       "    </tr>\n",
       "    <tr>\n",
       "      <th>144</th>\n",
       "      <td>2023-03-13 05:20:00+00:00</td>\n",
       "      <td>5.079039</td>\n",
       "      <td>3</td>\n",
       "    </tr>\n",
       "  </tbody>\n",
       "</table>\n",
       "</div>"
      ],
      "text/plain": [
       "                timestamp_utc  total_system_power  cluster\n",
       "20  2023-03-13 05:04:00+00:00           10.889110        2\n",
       "23  2023-03-13 05:06:00+00:00            9.589526        3\n",
       "41  2023-03-13 05:08:00+00:00            9.912909        3\n",
       "54  2023-03-13 05:10:00+00:00            9.920809        3\n",
       "65  2023-03-13 05:12:00+00:00           11.227239        3\n",
       "86  2023-03-13 05:14:00+00:00           11.197217        3\n",
       "103 2023-03-13 05:16:00+00:00            5.127493        3\n",
       "124 2023-03-13 05:18:00+00:00            5.121963        3\n",
       "144 2023-03-13 05:20:00+00:00            5.079039        3"
      ]
     },
     "execution_count": 12,
     "metadata": {},
     "output_type": "execute_result"
    }
   ],
   "source": [
    "df_data"
   ]
  },
  {
   "cell_type": "code",
   "execution_count": null,
   "metadata": {},
   "outputs": [],
   "source": []
  }
 ],
 "metadata": {
  "kernelspec": {
   "display_name": "MYENV",
   "language": "python",
   "name": "myenv"
  },
  "language_info": {
   "codemirror_mode": {
    "name": "ipython",
    "version": 3
   },
   "file_extension": ".py",
   "mimetype": "text/x-python",
   "name": "python",
   "nbconvert_exporter": "python",
   "pygments_lexer": "ipython3",
   "version": "3.11.5"
  }
 },
 "nbformat": 4,
 "nbformat_minor": 4
}
